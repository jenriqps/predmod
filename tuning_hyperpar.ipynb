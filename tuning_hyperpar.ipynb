{
 "cells": [
  {
   "cell_type": "markdown",
   "id": "61fac976",
   "metadata": {},
   "source": [
    "# Tuning of hyperparameters through Grid Search and Cross Validation"
   ]
  },
  {
   "cell_type": "code",
   "execution_count": null,
   "id": "21e1adfa",
   "metadata": {},
   "outputs": [],
   "source": [
    "from sklearn.model_selection import train_test_split\n",
    "from sklearn.metrics import auc, roc_curve\n",
    "from sklearn.preprocessing import MinMaxScaler\n",
    "from sklearn.model_selection import GridSearchCV\n",
    "from sklearn.linear_model import LogisticRegression\n",
    "from sklearn.neural_network import MLPClassifier\n",
    "from sklearn.tree import DecisionTreeClassifier\n",
    "import pandas as pd"
   ]
  },
  {
   "cell_type": "markdown",
   "id": "35608d7d",
   "metadata": {},
   "source": [
    "Steps:\n",
    "1. Create an initial training/test split\n",
    "2. Do cross validation on the training data for model/parameter selection\n",
    "3. Save the hold-out test set for final model evaluation"
   ]
  },
  {
   "cell_type": "markdown",
   "id": "0f25e28b",
   "metadata": {},
   "source": [
    "1. Create an initial training/test split: This is the same for all the teams. You can't change this code."
   ]
  },
  {
   "cell_type": "code",
   "execution_count": null,
   "id": "9e5df7f4",
   "metadata": {},
   "outputs": [],
   "source": [
    "# Import data\n",
    "dataset = pd.read_csv(\"assets/dataset.csv\",index_col=\"id\")\n",
    "x_names = [\"title_word_count\",\"document_entropy\",\"freshness\",\"easiness\",\"fraction_stopword_presence\",\"speaker_speed\",\"silent_period_rate\"]\n",
    "X = dataset[x_names]\n",
    "y = dataset[\"engagement\"]\n",
    "\n",
    "X_train, X_test, y_train, y_test = train_test_split(X, y, random_state=0,train_size=0.80,test_size=0.20)\n",
    "\n",
    "# Transformation (min max scaling)\n",
    "min_max_scaler = MinMaxScaler()\n",
    "X_train_minmax = min_max_scaler.fit_transform(X_train)\n",
    "X_test_minmax = min_max_scaler.transform(X_test)"
   ]
  },
  {
   "cell_type": "markdown",
   "id": "4ec52c75",
   "metadata": {},
   "source": [
    "2. Do cross validation on the training data for model/parameter selection: The team can decide:  \n",
    "- To change the grid_values of its model (add more hyperparameters and/or more values) \n",
    "- To work with (X_train_minmax, X_test_minmax) or without (X_train, X_test) the min max scaling. \n",
    "\n",
    "What is provided is just an example. Your goal is to maximize the area under the roc curve in the hold-out test set."
   ]
  },
  {
   "cell_type": "markdown",
   "id": "dbc6a377",
   "metadata": {},
   "source": [
    "Logistic regression"
   ]
  },
  {
   "cell_type": "code",
   "execution_count": null,
   "id": "8187cba5",
   "metadata": {},
   "outputs": [],
   "source": [
    "lr = LogisticRegression(solver='liblinear')\n",
    "grid_values = {'penalty': ['l1', 'l2'],'C':[0.01, 0.1, 1,10,15,20,25,30]}\n",
    "grid_lr_auc = GridSearchCV(lr, param_grid = grid_values, scoring = 'roc_auc',n_jobs=-1)\n",
    "grid_lr_auc.fit(X_train_minmax, y_train)\n",
    "print(grid_lr_auc.cv_results_['param_C'])\n",
    "print(grid_lr_auc.cv_results_['param_penalty'])    \n",
    "print(grid_lr_auc.cv_results_['mean_test_score'])\n",
    "print(grid_lr_auc.cv_results_['rank_test_score'])\n",
    "print(\"Best logistic regression\")\n",
    "print(grid_lr_auc.best_params_)\n",
    "print(grid_lr_auc.best_score_)\n",
    "y_lr_df=grid_lr_auc.best_estimator_.decision_function(X_test_minmax)\n",
    "fpr_lr, tpr_lr, _ = roc_curve(y_test, y_lr_df)\n",
    "roc_auc_lr = auc(fpr_lr, tpr_lr)\n",
    "print(\"AUC in the hold out dataset of the cross validation: \",roc_auc_lr)\n"
   ]
  },
  {
   "cell_type": "markdown",
   "id": "df2ac36f",
   "metadata": {},
   "source": [
    "Decision tree"
   ]
  },
  {
   "cell_type": "code",
   "execution_count": null,
   "id": "548701c8",
   "metadata": {},
   "outputs": [],
   "source": [
    "dt = DecisionTreeClassifier(max_depth = 4, min_samples_leaf = 8,random_state = 0)\n",
    "grid_values = {'max_depth': [round(x * 1, 0) for x in range(2, 10)],'min_samples_leaf':[round(x * 1, 0) for x in range(5, 20)]}\n",
    "grid_dt_auc = GridSearchCV(dt, param_grid = grid_values, scoring = 'roc_auc',n_jobs=-1)\n",
    "grid_dt_auc.fit(X_train, y_train)\n",
    "print(\"Best Decision Tree\")\n",
    "print(grid_dt_auc.best_params_)\n",
    "print(grid_dt_auc.best_score_)\n",
    "y_dt_df=grid_dt_auc.best_estimator_.predict_proba(X_test)\n",
    "fpr_dt, tpr_dt, _ = roc_curve(y_test, y_dt_df[:,1])\n",
    "roc_auc_dt = auc(fpr_dt, tpr_dt)\n",
    "print(\"AUC in the hold out dataset of the cross validation: \",roc_auc_dt)"
   ]
  },
  {
   "cell_type": "markdown",
   "id": "d504efda",
   "metadata": {},
   "source": [
    "Multilayer perceptron neural network"
   ]
  },
  {
   "cell_type": "code",
   "execution_count": null,
   "id": "54b1b4aa",
   "metadata": {},
   "outputs": [],
   "source": [
    "mlp = MLPClassifier(hidden_layer_sizes = [5, 5],random_state = 0)\n",
    "grid_values = {'alpha': [round(x * 0.05, 2) for x in range(1, 20)],'activation':['logistic', 'tanh', 'relu']}\n",
    "grid_mlp_auc = GridSearchCV(mlp, param_grid = grid_values, scoring = 'roc_auc',n_jobs=-1)\n",
    "grid_mlp_auc.fit(X_train_minmax, y_train)\n",
    "print(\"Best MLP\")\n",
    "print(grid_mlp_auc.best_params_)\n",
    "print(grid_mlp_auc.best_score_)\n",
    "y_mlp_df=grid_mlp_auc.best_estimator_.predict_proba(X_test_minmax)\n",
    "fpr_mlp, tpr_mlp, _ = roc_curve(y_test, y_mlp_df[:,1])\n",
    "roc_auc_mlp = auc(fpr_mlp, tpr_mlp)\n",
    "print(\"AUC in the hold out dataset of the cross validation: \",roc_auc_mlp)"
   ]
  },
  {
   "cell_type": "markdown",
   "id": "f2d089a6",
   "metadata": {},
   "source": [
    "3. Save the hold-out test set for final model evaluation: \n",
    "- Team with the highest AUC: 10\n",
    "- Team with the second highest AUC: 9\n",
    "- Team with the third highest AUC: 8\n"
   ]
  },
  {
   "cell_type": "markdown",
   "id": "4d0e4852",
   "metadata": {},
   "source": [
    "4. Upload your code to the forum."
   ]
  },
  {
   "cell_type": "markdown",
   "id": "d024ad99",
   "metadata": {},
   "source": []
  },
  {
   "cell_type": "code",
   "execution_count": null,
   "id": "ade91f66",
   "metadata": {},
   "outputs": [],
   "source": [
    "# Jorge Adrián \n",
    "mlp = MLPClassifier(random_state=0, max_iter=500)\n",
    "\n",
    "grid_values = {\n",
    "    'hidden_layer_sizes': [(5,5),(10,), (10, 10), (20, 10), (20, 20), (30, 20, 10)], \n",
    "    'alpha': [round(x * 0.05, 2) for x in range(1, 20)],\n",
    "    'activation': ['identity', 'logistic', 'tanh', 'relu'],\n",
    "}\n",
    "\n",
    "grid_mlp_auc = GridSearchCV(mlp, param_grid=grid_values, scoring='roc_auc', n_jobs=-1, cv=5)\n",
    "grid_mlp_auc.fit(X_train_minmax, y_train)\n",
    "\n",
    "print(\"Best MLP parameters:\", grid_mlp_auc.best_params_)\n",
    "print(\"Best AUC score:\", grid_mlp_auc.best_score_)\n",
    "\n",
    "y_mlp_df = grid_mlp_auc.best_estimator_.predict_proba(X_test_minmax)\n",
    "fpr_mlp, tpr_mlp, _ = roc_curve(y_test, y_mlp_df[:, 1])\n",
    "roc_auc_mlp = auc(fpr_mlp, tpr_mlp)\n",
    "\n",
    "print(\"AUC in the hold-out dataset:\", roc_auc_mlp)"
   ]
  },
  {
   "cell_type": "code",
   "execution_count": null,
   "id": "67e37175",
   "metadata": {},
   "outputs": [],
   "source": [
    "# María Luisa\n",
    "dt = DecisionTreeClassifier(random_state=10, class_weight='balanced') \n",
    "grid_values = {\n",
    "    'max_depth':[5],  \n",
    "    'min_samples_leaf': [19], \n",
    "    'min_samples_split': list(range(2, 21)),\n",
    "    'criterion': ['gini', 'entropy','log_loss']\n",
    "}\n",
    "grid_dt_auc = GridSearchCV(\n",
    "    dt, \n",
    "    param_grid=grid_values, \n",
    "    scoring='roc_auc', \n",
    "    n_jobs=-1,\n",
    "    cv=10  \n",
    ")\n",
    "grid_dt_auc.fit(X_train, y_train)  \n",
    "print(\"Best Decision Tree parameters from cross-validation:\")\n",
    "print(grid_dt_auc.best_params_)\n",
    "print(\"Best cross-validation AUC score on training data:\", grid_dt_auc.best_score_)\n",
    " \n",
    "\n",
    "best_dt = grid_dt_auc.best_estimator_  # Get the best model from cross-validation\n",
    "y_dt_df = best_dt.predict_proba(X_test)[:, 1]  \n",
    "fpr_dt, tpr_dt, _ = roc_curve(y_test, y_dt_df)\n",
    "roc_auc_dt = auc(fpr_dt, tpr_dt)\n",
    "print(\"AUC on the hold-out test set: \", roc_auc_dt)"
   ]
  },
  {
   "cell_type": "code",
   "execution_count": null,
   "id": "3b758308",
   "metadata": {},
   "outputs": [],
   "source": [
    "# Guillermo\n",
    "lr = LogisticRegression()\n",
    "grid_values = {\n",
    "    'penalty': ['l1', 'l2', 'elasticnet'],\n",
    "    'tol': [1e-4, 1e-5, 1e-6],  # Valores más bajos de tolerancia para mayor precisión\n",
    "    'C': [0.001, 0.01, 0.1, 0.5, 1, 5],\n",
    "    'solver': ['liblinear',  'saga', 'newton-cg'],\n",
    "    'l1_ratio': [0.1, 0.5, 0.9]  # Solo aplicable si se usa 'elasticnet'\n",
    "}\n",
    "\n",
    "grid_lr_auc = GridSearchCV(lr, param_grid = grid_values, scoring = 'roc_auc',n_jobs=-1)\n",
    "grid_lr_auc.fit(X_train, y_train)\n",
    "print(\"Best logistic regression\")\n",
    "print(grid_lr_auc.best_params_)\n",
    "print(grid_lr_auc.best_score_)\n",
    "y_lr_df=grid_lr_auc.best_estimator_.decision_function(X_test)\n",
    "fpr_lr, tpr_lr, _ = roc_curve(y_test, y_lr_df)\n",
    "roc_auc_lr = auc(fpr_lr, tpr_lr)\n",
    "print(\"AUC in the hold out dataset of the cross validation: \",roc_auc_lr)\n",
    " \n",
    "###\n",
    "# Best logistic regression\n",
    "# {'C': 0.5, 'l1_ratio': 0.1, 'penalty': 'l2', 'solver': 'newton-cg', 'tol': 1e-06}\n",
    "# 0.8466227812321454\n",
    "# AUC in the hold out dataset of the cross validation:  0.8304825685721611"
   ]
  },
  {
   "cell_type": "code",
   "execution_count": null,
   "id": "e7defac5",
   "metadata": {},
   "outputs": [],
   "source": []
  }
 ],
 "metadata": {
  "kernelspec": {
   "display_name": "vscode",
   "language": "python",
   "name": "python3"
  },
  "language_info": {
   "codemirror_mode": {
    "name": "ipython",
    "version": 3
   },
   "file_extension": ".py",
   "mimetype": "text/x-python",
   "name": "python",
   "nbconvert_exporter": "python",
   "pygments_lexer": "ipython3",
   "version": "3.12.9"
  }
 },
 "nbformat": 4,
 "nbformat_minor": 5
}
